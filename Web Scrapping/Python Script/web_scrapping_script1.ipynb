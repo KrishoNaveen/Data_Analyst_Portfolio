{
 "cells": [
  {
   "cell_type": "code",
   "execution_count": 1,
   "source": [
    "# import libraries \r\n",
    "#!pip install BeautifulSoup4\r\n",
    "\r\n",
    "from bs4 import BeautifulSoup\r\n",
    "import requests\r\n",
    "import time\r\n",
    "import datetime\r\n",
    "\r\n",
    "import smtplib"
   ],
   "outputs": [
    {
     "output_type": "stream",
     "name": "stderr",
     "text": [
      "C:\\Users\\krish\\AppData\\Local\\Programs\\Python\\Python37\\lib\\site-packages\\requests\\__init__.py:91: RequestsDependencyWarning: urllib3 (1.26.2) or chardet (3.0.4) doesn't match a supported version!\n",
      "  RequestsDependencyWarning)\n"
     ]
    }
   ],
   "metadata": {}
  },
  {
   "cell_type": "code",
   "execution_count": 2,
   "source": [
    "URL = 'https://www.amazon.ca/Apple-Watch-GPS-44mm-Space-Aluminum/dp/B08J96N211/ref=sr_1_5?crid=3G2OIRIXCQU56&dchild=1&keywords=apple+watch+series+6&qid=1629905864&sprefix=apple+wat%2Caps%2C213&sr=8-5'\r\n",
    "headers = {\"User-Agent\": \"Mozilla/5.0 (Windows NT 10.0; Win64; x64) AppleWebKit/537.36 (KHTML, like Gecko) Chrome/92.0.4515.131 Safari/537.36\", \"Accept-Encoding\":\"gzip, deflate\", \"Accept\":\"text/html,application/xhtml+xml,application/xml;q=0.9,*/*;q=0.8\", \"DNT\":\"1\",\"Connection\":\"close\", \"Upgrade-Insecure-Requests\":\"1\"}\r\n",
    "\r\n",
    "\r\n",
    "page = requests.get(URL, headers=headers)\r\n",
    "\r\n",
    "soup1 = BeautifulSoup(page.content, \"html.parser\")\r\n",
    "\r\n",
    "soup2 = BeautifulSoup(soup1.prettify(),\"html.parser\")\r\n",
    "\r\n",
    "title = soup2.find(id='productTitle').get_text()\r\n",
    "\r\n",
    "price = soup2.find(id='priceblock_ourprice').get_text()\r\n",
    "\r\n",
    "\r\n",
    "print(title)\r\n",
    "print(price)"
   ],
   "outputs": [
    {
     "output_type": "stream",
     "name": "stdout",
     "text": [
      "\n",
      "           Apple Watch Series 6 (GPS, 44mm) - Space Gray Aluminum Case with Black Sport Band\n",
      "          \n",
      "\n",
      "             $569.99\n",
      "            \n"
     ]
    }
   ],
   "metadata": {}
  },
  {
   "cell_type": "code",
   "execution_count": 3,
   "source": [
    "# Clean up the data a little bit\r\n",
    "\r\n",
    "price = price.strip()[1:]\r\n",
    "title = title.strip()\r\n",
    "\r\n",
    "print(title)\r\n",
    "print(price)"
   ],
   "outputs": [
    {
     "output_type": "stream",
     "name": "stdout",
     "text": [
      "Apple Watch Series 6 (GPS, 44mm) - Space Gray Aluminum Case with Black Sport Band\n",
      "569.99\n"
     ]
    }
   ],
   "metadata": {}
  },
  {
   "cell_type": "code",
   "execution_count": 4,
   "source": [
    "#Creating a time stamp:\r\n",
    "\r\n",
    "today_date = datetime.date.today()\r\n",
    "print(today_date)"
   ],
   "outputs": [
    {
     "output_type": "stream",
     "name": "stdout",
     "text": [
      "2021-08-26\n"
     ]
    }
   ],
   "metadata": {}
  },
  {
   "cell_type": "code",
   "execution_count": 6,
   "source": [
    "# Create CSV and write headers and data into the file\r\n",
    "\r\n",
    "import csv \r\n",
    "\r\n",
    "header = ['Title', 'Cost', 'Date']\r\n",
    "data = [title, price, today_date]\r\n",
    "\r\n",
    "\r\n",
    "with open('Amazon_webscrapping_data.csv', 'w', newline='', encoding='UTF8') as f:\r\n",
    "    writer = csv.writer(f)\r\n",
    "    writer.writerow(header)\r\n",
    "    writer.writerow(data)"
   ],
   "outputs": [],
   "metadata": {}
  },
  {
   "cell_type": "code",
   "execution_count": 8,
   "source": [
    "import pandas as pd\r\n",
    "\r\n",
    "df = pd.read_csv(r'C:\\Users\\krish\\OneDrive\\Desktop\\Portfolio Project\\Web Scrapping\\Amazon_webscrapping_data.csv')\r\n",
    "\r\n",
    "print(df)"
   ],
   "outputs": [
    {
     "output_type": "stream",
     "name": "stdout",
     "text": [
      "                                               Title    Cost        Date\n",
      "0  Apple Watch Series 6 (GPS, 44mm) - Space Gray ...  569.99  2021-08-26\n"
     ]
    }
   ],
   "metadata": {}
  },
  {
   "cell_type": "code",
   "execution_count": 9,
   "source": [
    "#Now we are appending data to the csv\r\n",
    "\r\n",
    "with open('Amazon_webscrapping_data.csv', 'a+', newline='', encoding='UTF8') as f:\r\n",
    "    writer = csv.writer(f)\r\n",
    "    writer.writerow(data)"
   ],
   "outputs": [],
   "metadata": {}
  },
  {
   "cell_type": "code",
   "execution_count": 10,
   "source": [
    "df"
   ],
   "outputs": [
    {
     "output_type": "execute_result",
     "data": {
      "text/plain": [
       "                                               Title    Cost        Date\n",
       "0  Apple Watch Series 6 (GPS, 44mm) - Space Gray ...  569.99  2021-08-26"
      ],
      "text/html": [
       "<div>\n",
       "<style scoped>\n",
       "    .dataframe tbody tr th:only-of-type {\n",
       "        vertical-align: middle;\n",
       "    }\n",
       "\n",
       "    .dataframe tbody tr th {\n",
       "        vertical-align: top;\n",
       "    }\n",
       "\n",
       "    .dataframe thead th {\n",
       "        text-align: right;\n",
       "    }\n",
       "</style>\n",
       "<table border=\"1\" class=\"dataframe\">\n",
       "  <thead>\n",
       "    <tr style=\"text-align: right;\">\n",
       "      <th></th>\n",
       "      <th>Title</th>\n",
       "      <th>Cost</th>\n",
       "      <th>Date</th>\n",
       "    </tr>\n",
       "  </thead>\n",
       "  <tbody>\n",
       "    <tr>\n",
       "      <th>0</th>\n",
       "      <td>Apple Watch Series 6 (GPS, 44mm) - Space Gray ...</td>\n",
       "      <td>569.99</td>\n",
       "      <td>2021-08-26</td>\n",
       "    </tr>\n",
       "  </tbody>\n",
       "</table>\n",
       "</div>"
      ]
     },
     "metadata": {},
     "execution_count": 10
    }
   ],
   "metadata": {}
  },
  {
   "cell_type": "code",
   "execution_count": 11,
   "source": [
    "#Adding the script to a function:\r\n",
    "\r\n",
    "def price_check():\r\n",
    "    URL = 'https://www.amazon.ca/Apple-Watch-GPS-44mm-Space-Aluminum/dp/B08J96N211/ref=sr_1_5?crid=3G2OIRIXCQU56&dchild=1&keywords=apple+watch+series+6&qid=1629905864&sprefix=apple+wat%2Caps%2C213&sr=8-5'\r\n",
    "    headers = {\"User-Agent\": \"Mozilla/5.0 (Windows NT 10.0; Win64; x64) AppleWebKit/537.36 (KHTML, like Gecko) Chrome/92.0.4515.131 Safari/537.36\", \"Accept-Encoding\":\"gzip, deflate\", \"Accept\":\"text/html,application/xhtml+xml,application/xml;q=0.9,*/*;q=0.8\", \"DNT\":\"1\",\"Connection\":\"close\", \"Upgrade-Insecure-Requests\":\"1\"}\r\n",
    "\r\n",
    "\r\n",
    "    page = requests.get(URL, headers=headers)\r\n",
    "\r\n",
    "    soup1 = BeautifulSoup(page.content, \"html.parser\")\r\n",
    "\r\n",
    "    soup2 = BeautifulSoup(soup1.prettify(),\"html.parser\")\r\n",
    "\r\n",
    "    title = soup2.find(id='productTitle').get_text()\r\n",
    "\r\n",
    "    price = soup2.find(id='priceblock_ourprice').get_text()\r\n",
    "\r\n",
    "\r\n",
    "    price = price.strip()[1:]\r\n",
    "    title = title.strip()\r\n",
    "\r\n",
    "    import datetime\r\n",
    "\r\n",
    "    today = datetime.date.today()\r\n",
    "    \r\n",
    "    import csv \r\n",
    "\r\n",
    "    header = ['Title', 'Price', 'Date']\r\n",
    "    data = [title, price, today]\r\n",
    "\r\n",
    "    with open('Amazon_webscrapping_data.csv', 'a+', newline='', encoding='UTF8') as f:\r\n",
    "        writer = csv.writer(f)\r\n",
    "        writer.writerow(data)"
   ],
   "outputs": [],
   "metadata": {}
  },
  {
   "cell_type": "code",
   "execution_count": 12,
   "source": [
    "# Runs check_price after a set time and inputs data into your CSV\r\n",
    "\r\n",
    "#while(True):\r\n",
    "    #price_check()\r\n",
    "    #time.sleep(5)"
   ],
   "outputs": [],
   "metadata": {}
  },
  {
   "cell_type": "code",
   "execution_count": null,
   "source": [
    "# If the user wants to try sending an email (just for fun), when a price hits below a certain level then try this script!!\r\n",
    "\r\n",
    "def send_mail():\r\n",
    "    server = smtplib.SMTP_SSL('smtp.gmail.com',465)\r\n",
    "    server.ehlo()\r\n",
    "    #server.starttls()\r\n",
    "    server.ehlo()\r\n",
    "    server.login('xxxxxxxxxx@gmail.com','xxxxxxxxxxxxxx')\r\n",
    "    \r\n",
    "    subject = \"The product you wanted is below the required price! Now is your chance to buy!\"\r\n",
    "    body = \"Hey, This is the moment you have been waiting for. Now is your chance to buy. Don't mess it up! Link here: https://www.amazon.ca/Apple-Watch-GPS-44mm-Space-Aluminum/dp/B08J96N211/ref=sr_1_5?crid=3G2OIRIXCQU56&dchild=1&keywords=apple+watch+series+6&qid=1629905864&sprefix=apple+wat%2Caps%2C213&sr=8-5\"\r\n",
    "   \r\n",
    "    msg = f\"Subject: {subject}\\n\\n{body}\"\r\n",
    "    \r\n",
    "    server.sendmail(\r\n",
    "        'xxxxxxxxxxxx@gmail.com',\r\n",
    "        msg\r\n",
    "    \r\n",
    "    )"
   ],
   "outputs": [],
   "metadata": {}
  }
 ],
 "metadata": {
  "orig_nbformat": 4,
  "language_info": {
   "name": "python",
   "version": "3.7.2",
   "mimetype": "text/x-python",
   "codemirror_mode": {
    "name": "ipython",
    "version": 3
   },
   "pygments_lexer": "ipython3",
   "nbconvert_exporter": "python",
   "file_extension": ".py"
  },
  "kernelspec": {
   "name": "python3",
   "display_name": "Python 3.7.2 64-bit"
  },
  "interpreter": {
   "hash": "bdfdeffb949bd9e65e40a4a2626a5aff60222540ab39f6254224a04fc434407b"
  }
 },
 "nbformat": 4,
 "nbformat_minor": 2
}